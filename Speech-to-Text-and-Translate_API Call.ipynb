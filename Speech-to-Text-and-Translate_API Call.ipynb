{
 "cells": [
  {
   "cell_type": "markdown",
   "metadata": {},
   "source": [
    "Overview:\n",
    "- create an instance of IBM Speech to Text, and IBM Language Translator. \n",
    "- IBM Speech to Text is a service that converts speech in audio format into text. \n",
    "- Watson Speech to Text is a service that uses deep learning algorithms to convert speech to text. \n",
    "- IBM Language Translator converts one language to another.  \n",
    "\n",
    "Goals:  \n",
    "- to convert an audio file of an English speaker to text using a Speech to Text API. \n",
    "- Then you will translate the English version to a Spanish version using a Language Translator API. "
   ]
  },
  {
   "cell_type": "code",
   "execution_count": 14,
   "metadata": {},
   "outputs": [],
   "source": [
    "# pip install ibm_watson wget"
   ]
  },
  {
   "cell_type": "code",
   "execution_count": 15,
   "metadata": {},
   "outputs": [],
   "source": [
    "import pandas as pd\n",
    "import numpy as np\n",
    "import matplotlib.pyplot as plt\n",
    "%matplotlib notebook\n",
    "import seaborn as sns\n",
    "import json\n",
    "from ibm_watson import SpeechToTextV1\n",
    "from ibm_cloud_sdk_core.authenticators import IAMAuthenticator"
   ]
  },
  {
   "cell_type": "code",
   "execution_count": 16,
   "metadata": {},
   "outputs": [],
   "source": [
    "# url and my api key\n",
    "url_s2t = \"https://stream.watsonplatform.net/speech-to-text/api\"\n",
    "iam_apikey_s2t = 'iFJKPzNUT5T6ijVQm5na02bwSsQebv-iEfnUvYnG5CSo'"
   ]
  },
  {
   "cell_type": "code",
   "execution_count": 17,
   "metadata": {},
   "outputs": [
    {
     "data": {
      "text/plain": [
       "<ibm_watson.speech_to_text_v1_adapter.SpeechToTextV1Adapter at 0x1e8a0834248>"
      ]
     },
     "execution_count": 17,
     "metadata": {},
     "output_type": "execute_result"
    }
   ],
   "source": [
    "# create a Speech To Text Adapter object. the parameters are the endpoint and API key.\n",
    "authenticator = IAMAuthenticator(iam_apikey_s2t)\n",
    "s2t = SpeechToTextV1(authenticator=authenticator)\n",
    "s2t.set_service_url(url_s2t)\n",
    "s2t"
   ]
  },
  {
   "cell_type": "code",
   "execution_count": 10,
   "metadata": {},
   "outputs": [
    {
     "ename": "TypeError",
     "evalue": "__init__() got an unexpected keyword argument 'iam_apikey'",
     "output_type": "error",
     "traceback": [
      "\u001b[1;31m---------------------------------------------------------------------------\u001b[0m",
      "\u001b[1;31mTypeError\u001b[0m                                 Traceback (most recent call last)",
      "\u001b[1;32m<ipython-input-10-765aedb0865e>\u001b[0m in \u001b[0;36m<module>\u001b[1;34m\u001b[0m\n\u001b[1;32m----> 1\u001b[1;33m \u001b[0ms2t\u001b[0m \u001b[1;33m=\u001b[0m \u001b[0mSpeechToTextV1\u001b[0m\u001b[1;33m(\u001b[0m\u001b[0miam_apikey\u001b[0m \u001b[1;33m=\u001b[0m \u001b[0miam_apikey_s2t\u001b[0m\u001b[1;33m,\u001b[0m \u001b[0murl\u001b[0m\u001b[1;33m=\u001b[0m\u001b[0murl_s2t\u001b[0m\u001b[1;33m)\u001b[0m\u001b[1;33m\u001b[0m\u001b[1;33m\u001b[0m\u001b[0m\n\u001b[0m",
      "\u001b[1;31mTypeError\u001b[0m: __init__() got an unexpected keyword argument 'iam_apikey'"
     ]
    }
   ],
   "source": [
    "s2t = SpeechToTextV1(iam_apikey = iam_apikey_s2t, url=url_s2t)"
   ]
  },
  {
   "cell_type": "code",
   "execution_count": 11,
   "metadata": {},
   "outputs": [],
   "source": [
    "from ibm_watson import LanguageTranslatorV3"
   ]
  },
  {
   "cell_type": "code",
   "execution_count": 12,
   "metadata": {},
   "outputs": [],
   "source": [
    "url_lt = 'https://gateway.watsonplatform.net/language-translator/api'"
   ]
  },
  {
   "cell_type": "code",
   "execution_count": null,
   "metadata": {},
   "outputs": [],
   "source": [
    "Speech to Text:\n",
    "API Key = iFJKPzNUT5T6ijVQm5na02bwSsQebv-iEfnUvYnG5CSo\n",
    "url = https://api.us-south.speech-to-text.watson.cloud.ibm.com/instances/eacd5ba6-b859-4561-b4fd-f8f3cd719965"
   ]
  },
  {
   "cell_type": "code",
   "execution_count": null,
   "metadata": {},
   "outputs": [],
   "source": [
    "language translator:\n",
    "api = ZkubAimMPDoJ6KnWYqEnM18JJ6DI5GntUwylVwTTUJQf\n",
    "url = https://api.us-south.language-translator.watson.cloud.ibm.com/instances/43f2ebb3-f769-4092-b707-fe2157fa74bf"
   ]
  }
 ],
 "metadata": {
  "kernelspec": {
   "display_name": "Python 3",
   "language": "python",
   "name": "python3"
  },
  "language_info": {
   "codemirror_mode": {
    "name": "ipython",
    "version": 3
   },
   "file_extension": ".py",
   "mimetype": "text/x-python",
   "name": "python",
   "nbconvert_exporter": "python",
   "pygments_lexer": "ipython3",
   "version": "3.7.6"
  }
 },
 "nbformat": 4,
 "nbformat_minor": 4
}
